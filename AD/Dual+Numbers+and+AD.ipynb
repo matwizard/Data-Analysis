{
 "cells": [
  {
   "cell_type": "markdown",
   "metadata": {},
   "source": [
    "# Dual Numbers and Algorithmic Differentiation basics\n",
    "Dual numbers are similar to complex numbers but with a second element coefficient  ${\\epsilon}$ that squares to zero (as opposed to $-1$ for complex numbers).\n"
   ]
  },
  {
   "cell_type": "markdown",
   "metadata": {},
   "source": [
    "https://en.wikipedia.org/wiki/Automatic_differentiation"
   ]
  },
  {
   "cell_type": "code",
   "execution_count": 20,
   "metadata": {},
   "outputs": [
    {
     "name": "stdout",
     "output_type": "stream",
     "text": [
      "18.749999999999996\n"
     ]
    }
   ],
   "source": [
    "from math import pi, sin, cos, sqrt\n",
    "print(37.5*sin(pi/6.0))"
   ]
  },
  {
   "cell_type": "code",
   "execution_count": 26,
   "metadata": {},
   "outputs": [],
   "source": [
    "##### start dual number class #####\n",
    "\n",
    "class Dual:\n",
    "    \"\"\"\n",
    "    Python dual numbers class \n",
    "    \"\"\"\n",
    "    def __init__(self, real: float, dual: float):\n",
    "        self.a = float(real)\n",
    "        self.b = float(dual)\n",
    "    \n",
    "    def __repr__(self):\n",
    "        return str(self.a) + \"+\" + str(self.b) +\"*epsilon\"\n",
    "    \n",
    "    def __str__(self):\n",
    "        return str(self.a) + \"+\" + str(self.b) +\"\\xce\\xb5\"\n",
    "   \n",
    "    def __nonzero__(self):\n",
    "        return(self.a == 0 and self.b == 0)   \n",
    "    \n",
    "    def __add__(self, other):\n",
    "        if isinstance(other, (float, int)):\n",
    "            return Dual(other+self.a, self.b)\n",
    "        return Dual(other.a+self.a, other.b+self.b)\n",
    "    \n",
    "    def __sub__(self, other):\n",
    "        if isinstance(other, (float, int)):\n",
    "            return Dual(self.a-other, self.b)\n",
    "        return Dual(other.a-self.a, other.b-self.b)\n",
    "    \n",
    "    def __mul__(self, other):\n",
    "        if isinstance(other, (float, int)):\n",
    "            return Dual(other*self.a,other*self.b)\n",
    "        return Dual(self.a*other.a, self.a*other.b + self.b*other.a)\n",
    "    \n",
    "    def __truediv__(self, other):\n",
    "        if isinstance(other, (float, int)):\n",
    "            return Dual(self.a/other, self.b/other)\n",
    "        return Dual(self.a/other.a, (self.b*other.a - self.a*other.b)/(other.a*other.a)) \n",
    "    \n",
    "    def __floordiv__(self, other):\n",
    "        if isinstance(other, (float, int)):\n",
    "            return Dual(self.a/other, self.b/other)\n",
    "        return Dual(self.a/other.a, (self.b*other.a - self.a*other.b)/(other.a*other.a)) \n",
    "    \n",
    "    def __pow__(self, other):\n",
    "        assert isinstance(other, int), \"only int powers are supported\"\n",
    "        if other == 1:\n",
    "            return self\n",
    "        elif other == 2:\n",
    "            return Dual(self.a**2, 2*self.a*self.b)\n",
    "        elif other > 1:\n",
    "            return self * self**(other-1)\n",
    "        else:\n",
    "            return (self**(other+1))/self\n",
    "    \n",
    "    def __radd__(self, other):\n",
    "        if isinstance(other, (float, int)):\n",
    "            return Dual(other+self.a, self.b)\n",
    "        return Dual(other.a+self.a, other.b+self.b)\n",
    "    \n",
    "    def __rsub__(self, other):\n",
    "        if isinstance(other, (float, int)):\n",
    "            return Dual(-self.a+other, -self.b)\n",
    "        return Dual(other.a-self.a, other.b-self.b)\n",
    "    \n",
    "    def __rmul__(self, other):\n",
    "        if isinstance(other, (float, int)):\n",
    "            return Dual(other*self.a,other*self.b)\n",
    "        return Dual(self.a*other.a, self.a*other.b + self.b*other.a)\n",
    "    \n",
    "    def __neg__(self):\n",
    "        return Dual(-self.a, -self.b)\n",
    "    \n",
    "    def __pos__(self):\n",
    "        return self\n",
    "    \n",
    "    def __abs__(self):\n",
    "        return abs(self.a)\n",
    "    \n",
    "\n",
    "epsilon = Dual(0, 1) "
   ]
  },
  {
   "cell_type": "code",
   "execution_count": 27,
   "metadata": {},
   "outputs": [
    {
     "data": {
      "text/plain": [
       "-0.14285714285714285+0.04081632653061224*epsilon"
      ]
     },
     "execution_count": 27,
     "metadata": {},
     "output_type": "execute_result"
    }
   ],
   "source": [
    "x1=Dual(49,0)\n",
    "x2=Dual(-7,2)\n",
    "x2/x1"
   ]
  },
  {
   "cell_type": "markdown",
   "metadata": {},
   "source": [
    "# Example 1  $f(x)=x^3$; $\\frac{\\partial {f}}{\\partial {x}} = 3x^2$\n",
    "By the fundamental properties of [dual numbers](https://en.wikipedia.org/wiki/Dual_number):  \n",
    "\n",
    "$$f(a + b\\epsilon) = f(a) + bf'(a)\\epsilon$$where $f'(x)$ is the first derivative of $f(x)$\n",
    "\n",
    "\n",
    "With duals, we are at liberty to set the second element $b$ to $1$, so:\n",
    "$$f(a + b\\epsilon) = f(a) + f'(a)\\epsilon$$\n",
    "\n",
    "\n",
    "In python, the dualNum class above implements dual numbers and operations on them. The second element, in a manner completely analogous to complex numbers where the second element is imaginary, is implicitly multiplied by $\\epsilon$.\n",
    "\n",
    "The below snippet shows how [Algorithmic Differentiation](https://en.wikipedia.org/wiki/Algorithmic_differentiation) is realised without re-structuring/re-factoring or other instrumentation, other than substitution of scalar real number variables with dualNum variables."
   ]
  },
  {
   "cell_type": "code",
   "execution_count": 28,
   "metadata": {},
   "outputs": [
    {
     "name": "stdout",
     "output_type": "stream",
     "text": [
      "For x=5.0: f(x) = 125.0, f'(x) = 75.0\n"
     ]
    }
   ],
   "source": [
    "#Calculate f(x) and f'(x) where f(x)=x^3\n",
    "#Set x=5, with second element = 1 as discussed above\n",
    "x=Dual(5,1)\n",
    "y=x**3\n",
    "print(\"For x={}: f(x) = {}, f'(x) = {}\".format(x.a, y.a, y.b))"
   ]
  },
  {
   "cell_type": "markdown",
   "metadata": {},
   "source": [
    "# Functions of more than one variable and \"sweeps\"\n",
    "The case for functions $f(x_1, x_2, ...)$ of more than one variable complicates things slightly. The basic approach is as follows:\n",
    "- Ensure all input variables ($x_1, x_2$, etc.) are dual numbers\n",
    "- To recover the partial derivative $\\frac{\\partial {f}}{\\partial {x_i}}$, set \"b\" element (the second, or $\\epsilon$ element) of $x_i = 1$\n",
    "- Set \"b\" elements of all other variables to 0 ( $x_j$ where $j \\neq i$ are effectively real-only numbers)\n",
    "- Evaluate result\n",
    "- Repeat this for each variable\n",
    "- AD Jargon : each iteration of above is called a \"sweep\""
   ]
  },
  {
   "cell_type": "markdown",
   "metadata": {},
   "source": [
    "# AD Example for Functions of more than one variable $f(x_1, x_2, ...)$\n",
    "# Example 2 : $f(x_1,x_2)=\\frac{x_1^3}{x_2}$ \n",
    "We know that (from basic differential calculus - no AD yet!):\n",
    "- $\\frac{\\partial {f}}{\\partial {x_1}} = \\frac{3x_1^2}{x_2}$\n",
    "- $\\frac{\\partial {f}}{\\partial {x_2}} = -\\frac{x_1^3}{x_2^2}$"
   ]
  },
  {
   "cell_type": "code",
   "execution_count": 29,
   "metadata": {},
   "outputs": [
    {
     "name": "stdout",
     "output_type": "stream",
     "text": [
      "For x1, x2 = 5.0, 2.0: f(x) = 62.5, f'(x1) = 37.5\n",
      "For x1, x2 = 5.0, 2.0: f(x) = 62.5, f'(x2) = -31.25\n"
     ]
    }
   ],
   "source": [
    "# Calculate f(x1,x2) and f'(x1), f'(x2) where f(x1, x2)=x1^3/x2; Use \"sweeps\" for partials wrt inputs\n",
    "def f(x1, x2): return (x1**3)/x2\n",
    "    \n",
    "#Sweep 1 get f(x1,x2) and f'(x1); set x1.b=1 and any other xn.b=0\n",
    "x1=Dual(5.0,1)\n",
    "x2=Dual(2.0,0)\n",
    "y=f(x1,x2)\n",
    "print(\"For x1, x2 = {}, {}: f(x) = {}, f'(x1) = {}\".format(x1.a, x2.a, y.a, y.b))\n",
    "\n",
    "#Sweep 2 get f(x1,x2) and f'(x2); set x2.b=1 and any other xn.b=0\n",
    "x1=Dual(5.0,0)\n",
    "x2=Dual(2.0,1)\n",
    "y=f(x1,x2)\n",
    "print(\"For x1, x2 = {}, {}: f(x) = {}, f'(x2) = {}\".format(x1.a, x2.a, y.a, y.b))"
   ]
  },
  {
   "cell_type": "code",
   "execution_count": 30,
   "metadata": {},
   "outputs": [
    {
     "name": "stdout",
     "output_type": "stream",
     "text": [
      "18.749999999999996\n"
     ]
    }
   ],
   "source": [
    "from math import pi, sin, cos\n",
    "print(37.5*sin(pi/6.0))"
   ]
  },
  {
   "cell_type": "markdown",
   "metadata": {},
   "source": [
    "# Adapting AD by \"wrapping\" functions\n",
    "In pure Python, everything is easy (almost!) - we can introduce dual numbers and retain existing code, pretty much without significant change.\n",
    "\n",
    "When we have a function which is implemented in another language, or when we have only a compiled version, we can \"wrap\" the function, so as to create an AD-enabled version of the  function which takes, and returns, dual numbers.\n",
    "\n",
    "In our next example, we have a composite function in which we call a function in the \"math\" module, which is normally supplied as a pre-compiled dynamic link library (DLL - on Windows).\n",
    "\n",
    "# Example 3\n",
    "Here we take the previous example and introduce a dependency on a function ($sin(x_3)$), which is supported by a compiled library (e.g. DLL) for which source code is not immediately available. Since the functional form of such functions is often well understood, and analytical derivatives are well known or can be obtained, we therefore can \"wrap\" the objective function so it works with dual number AD implementation. \n",
    "\n",
    "For $f(x_1,x_2,x_3)=\\frac{x_1^3}{x_2}sin(x_3)$ we know that (from basic differential calculus - no AD yet!):\n",
    "- $\\frac{\\partial {f}}{\\partial {x_1}} = \\frac{3x_1^2}{x_2}sin(x_3)$\n",
    "- $\\frac{\\partial {f}}{\\partial {x_2}} = -\\frac{x_1^3}{x_2^2}sin(x_3)$\n",
    "- $\\frac{\\partial {f}}{\\partial {x_3}} = \\frac{x_1^3}{x_2}cos(x_3)$\n",
    "\n",
    "In fact this technique can be automated somewhat in that known functional forms can be identified and appropriate functions \"wrapped\", then automated edits can substitute calls to functions with the AD versions."
   ]
  },
  {
   "cell_type": "code",
   "execution_count": 39,
   "metadata": {
    "scrolled": true
   },
   "outputs": [
    {
     "name": "stdout",
     "output_type": "stream",
     "text": [
      "For x1, x2, x3 = 5.0, 2.0, 0.5235987755982988: f(x) = 31.249999999999996, f'(x1) = 18.749999999999996\n",
      "For x1, x2, x3 = 5.0, 2.0, 0.5235987755982988: f(x) = 31.249999999999996, f'(x2) = -15.624999999999998\n",
      "For x1, x2, x3 = 5.0, 2.0, 0.5235987755982988: f(x) = 31.249999999999996, f'(x3) = 54.12658773652742\n"
     ]
    }
   ],
   "source": [
    "from math import pi, sin, cos\n",
    "#Wrapped dual number version of sin \n",
    "def _AD_sin(x):\n",
    "    #We know that d/dx of sin(x) is cos(x); only return \"b\" value if x.b=1!!\n",
    "    return Dual(sin(x.a), cos(x.a)*x.b)\n",
    "\n",
    "def f(x1, x2, x3):\n",
    "    return ((x1**3)/x2)*_AD_sin(x3)\n",
    "    \n",
    "#Sweep 1 get f(x1,x2, x3) and f'(x1); set x1.b=1 and any other xn.b=0\n",
    "x1=Dual(5.0,1)\n",
    "x2=Dual(2.0,0)\n",
    "x3=Dual(pi/6,0)\n",
    "\n",
    "y=f(x1,x2, x3)\n",
    "print(\"For x1, x2, x3 = {}, {}, {}: f(x) = {}, f'(x1) = {}\".format(x1.a, x2.a, x3.a, y.a, y.b))\n",
    "\n",
    "#Sweep 2 get f(x1,x2, x3) and f'(x2); set x2.b=1 and any other xn.b=0\n",
    "x1=Dual(5.0,0)\n",
    "x2=Dual(2.0,1)\n",
    "x3=Dual(pi/6,0)\n",
    "\n",
    "y=f(x1,x2, x3)\n",
    "print(\"For x1, x2, x3 = {}, {}, {}: f(x) = {}, f'(x2) = {}\".format(x1.a, x2.a, x3.a, y.a, y.b))\n",
    "\n",
    "#Sweep 3 get f(x1,x2, x3) and f'(x3); set x3.b=1 and any other xn.b=0\n",
    "x1=Dual(5.0,0)\n",
    "x2=Dual(2.0,0)\n",
    "x3=Dual(pi/6,1)\n",
    "\n",
    "y=f(x1,x2, x3)\n",
    "print(\"For x1, x2, x3 = {}, {}, {}: f(x) = {}, f'(x3) = {}\".format(x1.a, x2.a, x3.a, y.a, y.b))"
   ]
  },
  {
   "cell_type": "code",
   "execution_count": 32,
   "metadata": {
    "scrolled": true
   },
   "outputs": [
    {
     "name": "stdout",
     "output_type": "stream",
     "text": [
      "For x1, x2, x3 = 5.0, 2.0, 0.7236012545582676: f(x) = 31.249999999999996, f_x1(x) = 18.749999999999996\n",
      "For x1, x2, x3 = 5.0, 2.0, 0.7236012545582676: f(x) = 31.249999999999996, f_x2(x) = -15.624999999999998\n",
      "For x1, x2, x3 = 5.0, 2.0, 0.7236012545582676: f(x) = 31.249999999999996, f_x3(x) = 78.33213358221877\n"
     ]
    }
   ],
   "source": [
    "from math import pi, sin, cos\n",
    "#Wrapped dual number version of sin \n",
    "def _AD_sin(x):\n",
    "    #We know that d/dx of sin(x) is cos(x).\n",
    "    return Dual(sin(x.a), cos(x.a)*x.b)\n",
    "\n",
    "def f(x1, x2, x3):\n",
    "    return ((x1**3)/x2)*_AD_sin(x3**2)\n",
    "    \n",
    "#Sweep 1 get f(x1,x2, x3) and f'(x1); set x1.b=1 and any other xn.b=0\n",
    "x1=Dual(5.0,1)\n",
    "x2=Dual(2.0,0)\n",
    "x3=Dual((pi/6)**0.5,0)\n",
    "\n",
    "y=f(x1,x2, x3)\n",
    "print(\"For x1, x2, x3 = {}, {}, {}: f(x) = {}, f_x1(x) = {}\".format(x1.a, x2.a, x3.a, y.a, y.b))\n",
    "\n",
    "#Sweep 2 get f(x1,x2, x3) and f'(x2); set x2.b=1 and any other xn.b=0\n",
    "x1=Dual(5.0,0)\n",
    "x2=Dual(2.0,1)\n",
    "x3=Dual((pi/6)**0.5,0)\n",
    "\n",
    "y=f(x1,x2, x3)\n",
    "print(\"For x1, x2, x3 = {}, {}, {}: f(x) = {}, f_x2(x) = {}\".format(x1.a, x2.a, x3.a, y.a, y.b))\n",
    "\n",
    "#Sweep 3 get f(x1,x2, x3) and f'(x3); set x3.b=1 and any other xn.b=0\n",
    "x1=Dual(5.0,0)\n",
    "x2=Dual(2.0,0)\n",
    "x3=Dual((pi/6)**0.5,1)\n",
    "\n",
    "y=f(x1,x2, x3)\n",
    "print(\"For x1, x2, x3 = {}, {}, {}: f(x) = {}, f_x3(x) = {}\".format(x1.a, x2.a, x3.a, y.a, y.b))"
   ]
  },
  {
   "cell_type": "code",
   "execution_count": null,
   "metadata": {},
   "outputs": [],
   "source": []
  },
  {
   "cell_type": "code",
   "execution_count": 33,
   "metadata": {},
   "outputs": [
    {
     "data": {
      "text/plain": [
       "-15.625"
      ]
     },
     "execution_count": 33,
     "metadata": {},
     "output_type": "execute_result"
    }
   ],
   "source": [
    "-0.5*31.25"
   ]
  },
  {
   "cell_type": "code",
   "execution_count": 34,
   "metadata": {},
   "outputs": [
    {
     "data": {
      "text/plain": [
       "78.33213358221877"
      ]
     },
     "execution_count": 34,
     "metadata": {},
     "output_type": "execute_result"
    }
   ],
   "source": [
    "2 * 5**3 * (pi/6)**0.5 * cos(pi/6) / 2"
   ]
  },
  {
   "cell_type": "code",
   "execution_count": 35,
   "metadata": {},
   "outputs": [
    {
     "data": {
      "text/plain": [
       "0.16666666666666666"
      ]
     },
     "execution_count": 35,
     "metadata": {},
     "output_type": "execute_result"
    }
   ],
   "source": [
    "1/2/3"
   ]
  },
  {
   "cell_type": "code",
   "execution_count": 36,
   "metadata": {},
   "outputs": [
    {
     "data": {
      "text/plain": [
       "-5.0+-0.0*epsilon"
      ]
     },
     "execution_count": 36,
     "metadata": {},
     "output_type": "execute_result"
    }
   ],
   "source": [
    "-x1"
   ]
  },
  {
   "cell_type": "code",
   "execution_count": 37,
   "metadata": {},
   "outputs": [
    {
     "data": {
      "text/plain": [
       "5.0"
      ]
     },
     "execution_count": 37,
     "metadata": {},
     "output_type": "execute_result"
    }
   ],
   "source": [
    "abs(x1)"
   ]
  },
  {
   "cell_type": "code",
   "execution_count": 38,
   "metadata": {},
   "outputs": [
    {
     "data": {
      "text/plain": [
       "5.0"
      ]
     },
     "execution_count": 38,
     "metadata": {},
     "output_type": "execute_result"
    }
   ],
   "source": [
    "abs(x1)"
   ]
  },
  {
   "cell_type": "code",
   "execution_count": null,
   "metadata": {},
   "outputs": [],
   "source": []
  }
 ],
 "metadata": {
  "anaconda-cloud": {},
  "kernelspec": {
   "display_name": "Python 3",
   "language": "python",
   "name": "python3"
  },
  "language_info": {
   "codemirror_mode": {
    "name": "ipython",
    "version": 3
   },
   "file_extension": ".py",
   "mimetype": "text/x-python",
   "name": "python",
   "nbconvert_exporter": "python",
   "pygments_lexer": "ipython3",
   "version": "3.6.8"
  }
 },
 "nbformat": 4,
 "nbformat_minor": 1
}
