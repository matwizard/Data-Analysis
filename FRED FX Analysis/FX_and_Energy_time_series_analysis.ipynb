{
 "cells": [
  {
   "cell_type": "markdown",
   "metadata": {},
   "source": [
    "# Data Science FX project : Daniel Barclay 2019 - 2020\n",
    "# Federal Reserve Economic Data (FRED) FX Analysis Project\n",
    "\n",
    "I wanted to do some exploratory analysis of foreign exchange rate time series data.\n",
    "\n",
    "I looked at the [Federal Reserve Economic Data (FRED) website](https://fred.stlouisfed.org).\n",
    "\n",
    "I accessed this through pandas in Python using the data reader package, which loads the data into a data frame.\n",
    "\n",
    "The log return diagrams show the rate of change of each currency day on day.\n",
    "\n",
    "Each analysis gives further insight about the data. For instance, the swiss franc showed an opposite trend to most of the currencies.\n",
    "\n",
    "Next I created a scatter matrix\n",
    "\n",
    "The scatter matrix has pair plots of one currency against another in a square grid. The diagonal plots however show the histogram or probability density of a single exchange rate. It estimates the rate of occurrence of each value.\n",
    "\n",
    "An anomaly appears to be the Danish Kroner as it appears to be almost perfectly correlated with the euro (appearing as a straight diagonal line in the pair plot).\n",
    "\n",
    "Then I showed a heatmap plot of correlations which essentially show how each exchange rate is correlated. We can see that the euro-USD exchange rate is fairly strongly correlated with the GBP-USD (deep orange).\n",
    "\n",
    "This is useful for investors to diversify and spread risk. Investors should choose exchange rates that are poorly correlated or anti-correlated (blue in this diagram)."
   ]
  },
  {
   "cell_type": "code",
   "execution_count": null,
   "metadata": {},
   "outputs": [],
   "source": [
    "import matplotlib.pyplot as plt"
   ]
  },
  {
   "cell_type": "code",
   "execution_count": null,
   "metadata": {},
   "outputs": [],
   "source": [
    "import numpy as np"
   ]
  },
  {
   "cell_type": "code",
   "execution_count": null,
   "metadata": {},
   "outputs": [],
   "source": [
    "import pandas_datareader.data as web\n",
    "import pandas as pd\n",
    "import datetime as dt\n",
    "start = dt.datetime(2007,1,1)\n",
    "end = dt.datetime(2019,12,31)\n",
    "fx_symbols = [\"DEXUSUK\", \"DEXUSEU\", \"DEXJPUS\", \"DEXCAUS\", \"DEXDNUS\", \"DEXNOUS\",\"DEXSZUS\",\"DEXSDUS\",\"DEXCHUS\"]\n",
    "FX = web.DataReader(fx_symbols, 'fred', start,end)"
   ]
  },
  {
   "cell_type": "code",
   "execution_count": null,
   "metadata": {},
   "outputs": [],
   "source": [
    "fred2iso = {'US':'USD', 'UK':'GBP', 'EU':'EUR', 'JP':'JPY', 'CA':'CAD', 'DN':'DKK', 'NO':'NOK', 'SZ':'CHF', 'SD':'SEK', 'CH':'CNY'}"
   ]
  },
  {
   "cell_type": "code",
   "execution_count": null,
   "metadata": {},
   "outputs": [],
   "source": [
    "fred2iso['UK']"
   ]
  },
  {
   "cell_type": "code",
   "execution_count": null,
   "metadata": {},
   "outputs": [],
   "source": [
    "cols = [fred2iso[c[5:]] + \"-\" + fred2iso[c[3:5]] for c in FX.columns]"
   ]
  },
  {
   "cell_type": "code",
   "execution_count": null,
   "metadata": {},
   "outputs": [],
   "source": [
    "FX.columns = cols\n",
    "FX.columns"
   ]
  },
  {
   "cell_type": "markdown",
   "metadata": {},
   "source": [
    "I had to invert some data because some exchange rates were US dollars to other currencies, while other exchange rates were other currencies to US dollars, so I had to make them all the same by taking reciprocals as I wanted all exchange rates expressed as other currencies to US dollars. I removed the missing data using the pandas dropna function."
   ]
  },
  {
   "cell_type": "code",
   "execution_count": null,
   "metadata": {},
   "outputs": [],
   "source": [
    "FX['USD-GBP'] = 1/FX['GBP-USD']\n",
    "FX['USD-EUR'] = 1/FX['EUR-USD']"
   ]
  },
  {
   "cell_type": "code",
   "execution_count": null,
   "metadata": {},
   "outputs": [],
   "source": [
    "FX.drop(['EUR-USD','GBP-USD'], axis=1, inplace = True)\n",
    "FX.dropna(inplace = True)"
   ]
  },
  {
   "cell_type": "code",
   "execution_count": null,
   "metadata": {},
   "outputs": [],
   "source": [
    "FX"
   ]
  },
  {
   "cell_type": "markdown",
   "metadata": {},
   "source": [
    "I plotted FX rate value to USD against date.\n",
    "\n",
    "I looked at 6 currencies, looking at data points for each between 2007 – 2011, then I plotted all the currencies over time using Matplotlib\n",
    "\n",
    "At this point I decided to expand the data to 2007 – 2019 and added 3 more currencies, and the program made the change automatically. I could also easily add other currencies.\n",
    "\n",
    "\\*Because Japanese Yen has a higher exchange rate (approximately 100), it makes fluctuations in the currencies with smaller exchange rates very hard to see if you don’t normalise it."
   ]
  },
  {
   "cell_type": "code",
   "execution_count": null,
   "metadata": {},
   "outputs": [],
   "source": [
    "FX.plot()"
   ]
  },
  {
   "cell_type": "markdown",
   "metadata": {},
   "source": [
    "Then I looked at correlations between each of the different FX rates. The bottom range of the diagram shows how much fluctuation there is in a specific time region for each currency against USD. I used a different colour for each currency."
   ]
  },
  {
   "cell_type": "code",
   "execution_count": null,
   "metadata": {
    "scrolled": true
   },
   "outputs": [],
   "source": [
    "FX.plot(subplots=True,figsize=(15,11),layout=(3, 3))"
   ]
  },
  {
   "cell_type": "markdown",
   "metadata": {},
   "source": [
    "To show log returns, which is a ratio of 2 consecutive samples.\n",
    "\n",
    "I found $\\log \\left(\\frac{\\text{today}}{\\text{previous day}}\\right)$, or $\\log (\\text{today})- \\log(\\text{previous day})$.\n",
    "\n",
    "Taking logs turns it into a proportional scaling, in which 0=unchanged, 0.1 = 10% increase, 0.2= 20% increase etc. Logs are the commonly used convention.\n",
    "\n",
    "The log return diagrams show the rate of change of each currency day on day."
   ]
  },
  {
   "cell_type": "code",
   "execution_count": null,
   "metadata": {},
   "outputs": [],
   "source": [
    "from numpy import log"
   ]
  },
  {
   "cell_type": "code",
   "execution_count": null,
   "metadata": {},
   "outputs": [],
   "source": [
    "FX_returns = log(FX/FX.shift(1))"
   ]
  },
  {
   "cell_type": "code",
   "execution_count": null,
   "metadata": {},
   "outputs": [],
   "source": [
    "# Now we get the log-returns (one-day)\n",
    "FX_returns.plot(subplots=True,figsize=(15,11),layout=(3, 3))"
   ]
  },
  {
   "cell_type": "markdown",
   "metadata": {},
   "source": [
    "Plot of CHF-GBP exchange rate over time"
   ]
  },
  {
   "cell_type": "code",
   "execution_count": null,
   "metadata": {
    "scrolled": true
   },
   "outputs": [],
   "source": [
    "Data_frame = FX['USD-CHF']/FX['USD-GBP']\n",
    "Data_frame.plot()"
   ]
  },
  {
   "cell_type": "code",
   "execution_count": null,
   "metadata": {},
   "outputs": [],
   "source": [
    "from pandas.plotting import scatter_matrix\n",
    "scatter_matrix(FX.loc[:,\"USD-JPY\":\"USD-EUR\"], diagonal = \"kde\",figsize = (20,16))\n",
    "plt.tight_layout()\n",
    "plt.show()"
   ]
  },
  {
   "cell_type": "code",
   "execution_count": null,
   "metadata": {},
   "outputs": [],
   "source": [
    "import seaborn as sns"
   ]
  },
  {
   "cell_type": "markdown",
   "metadata": {},
   "source": [
    "I computed a correlation matrix based on the returns which shows how the currencies behave relative to each other. A positive value indicates tracking (+1 = perfectly correlated, 0= no correlation, and a negative value = going in the other direction)."
   ]
  },
  {
   "cell_type": "code",
   "execution_count": null,
   "metadata": {},
   "outputs": [],
   "source": [
    "FX.corr()"
   ]
  },
  {
   "cell_type": "code",
   "execution_count": null,
   "metadata": {
    "scrolled": false
   },
   "outputs": [],
   "source": [
    "sns.heatmap(FX.corr(),cmap='coolwarm',vmin=-1,vmax=1)"
   ]
  },
  {
   "cell_type": "code",
   "execution_count": null,
   "metadata": {},
   "outputs": [],
   "source": [
    "x=FX.corr()\n",
    "x.values"
   ]
  },
  {
   "cell_type": "code",
   "execution_count": null,
   "metadata": {
    "scrolled": true
   },
   "outputs": [],
   "source": [
    "#print(np.linalg.eig(x)[0])"
   ]
  },
  {
   "cell_type": "code",
   "execution_count": null,
   "metadata": {},
   "outputs": [],
   "source": [
    "fx=FX.rolling(100).mean()"
   ]
  },
  {
   "cell_type": "code",
   "execution_count": null,
   "metadata": {
    "scrolled": true
   },
   "outputs": [],
   "source": [
    "fx.plot(subplots=True,figsize=(15,11),layout=(3, 3))"
   ]
  },
  {
   "cell_type": "code",
   "execution_count": null,
   "metadata": {},
   "outputs": [],
   "source": [
    "#fig, axs = plt.subplots(2, 2)\n",
    "#axs[0,0].plot(FX)\n",
    "#plt.plot(FX,subplots=True)\n",
    "#plt.plot(fx)\n",
    "#FX.plot()\n",
    "#fx.plot(subplots=True,figsize=(15,11),layout=(3, 3))"
   ]
  },
  {
   "cell_type": "code",
   "execution_count": null,
   "metadata": {},
   "outputs": [],
   "source": []
  },
  {
   "cell_type": "markdown",
   "metadata": {},
   "source": [
    "# Extending the analysis to energy markets"
   ]
  },
  {
   "cell_type": "code",
   "execution_count": null,
   "metadata": {},
   "outputs": [],
   "source": [
    "import quandl\n",
    "import matplotlib.pyplot as plt\n",
    "import numpy as np\n",
    "import pandas_datareader.data as web\n",
    "import pandas as pd\n",
    "import datetime as dt\n",
    "import seaborn as sns"
   ]
  },
  {
   "cell_type": "code",
   "execution_count": null,
   "metadata": {},
   "outputs": [],
   "source": [
    "quandl.ApiConfig.api_key = '4nrCzYAzzubd7HcLYyxb'"
   ]
  },
  {
   "cell_type": "code",
   "execution_count": null,
   "metadata": {},
   "outputs": [],
   "source": [
    "df = quandl.get([\"EIA/PET_RWTC_D\",\"FRED/DCOILBRENTEU\",\"EIA/NG_RNGWHHD_D\",\"EIA/PET_EER_EPD2F_PF4_Y35NY_DPG_D\",\"EIA/PET_EER_EPMRU_PF4_Y35NY_DPG_D\",\"EIA/PET_EER_EPD2DXL0_PF4_Y35NY_DPG_D\",\"EIA/PET_EER_EPJK_PF4_RGC_DPG_D\"])"
   ]
  },
  {
   "cell_type": "code",
   "execution_count": null,
   "metadata": {},
   "outputs": [],
   "source": [
    "df.columns = [\"WTI\",\"Brent\",\"Natural gas\",\"Heating oil\",\"Gasoline\",\"Diesel\",\"Jet\"]"
   ]
  },
  {
   "cell_type": "code",
   "execution_count": null,
   "metadata": {},
   "outputs": [],
   "source": [
    "df.columns"
   ]
  },
  {
   "cell_type": "code",
   "execution_count": null,
   "metadata": {
    "scrolled": false
   },
   "outputs": [],
   "source": [
    "df"
   ]
  },
  {
   "cell_type": "code",
   "execution_count": null,
   "metadata": {},
   "outputs": [],
   "source": [
    "df.plot()"
   ]
  },
  {
   "cell_type": "code",
   "execution_count": null,
   "metadata": {},
   "outputs": [],
   "source": [
    "df.plot(subplots=True,figsize=(15,11),layout=(3, 3))"
   ]
  },
  {
   "cell_type": "code",
   "execution_count": null,
   "metadata": {},
   "outputs": [],
   "source": [
    "df_returns = np.log(df/df.shift(1))"
   ]
  },
  {
   "cell_type": "code",
   "execution_count": null,
   "metadata": {},
   "outputs": [],
   "source": [
    "df_returns.plot(subplots=True,figsize=(15,11),layout=(3, 3))"
   ]
  },
  {
   "cell_type": "code",
   "execution_count": null,
   "metadata": {},
   "outputs": [],
   "source": [
    "df.corr()"
   ]
  },
  {
   "cell_type": "code",
   "execution_count": null,
   "metadata": {},
   "outputs": [],
   "source": [
    "sns.heatmap(df.corr(),cmap='coolwarm',vmin=-1,vmax=1)"
   ]
  },
  {
   "cell_type": "code",
   "execution_count": null,
   "metadata": {},
   "outputs": [],
   "source": [
    "from pandas.plotting import scatter_matrix\n",
    "scatter_matrix(df.loc[:,\"WTI\":\"Jet\"], diagonal = \"kde\",figsize = (20,16))\n",
    "plt.tight_layout()\n",
    "plt.show()"
   ]
  },
  {
   "cell_type": "code",
   "execution_count": null,
   "metadata": {},
   "outputs": [],
   "source": [
    "df_rolling=df.rolling(50).mean()"
   ]
  },
  {
   "cell_type": "code",
   "execution_count": null,
   "metadata": {},
   "outputs": [],
   "source": [
    "df_rolling.plot(subplots=True,figsize=(15,11),layout=(3, 3))"
   ]
  },
  {
   "cell_type": "code",
   "execution_count": null,
   "metadata": {},
   "outputs": [],
   "source": []
  }
 ],
 "metadata": {
  "kernelspec": {
   "display_name": "Python 3",
   "language": "python",
   "name": "python3"
  },
  "language_info": {
   "codemirror_mode": {
    "name": "ipython",
    "version": 3
   },
   "file_extension": ".py",
   "mimetype": "text/x-python",
   "name": "python",
   "nbconvert_exporter": "python",
   "pygments_lexer": "ipython3",
   "version": "3.6.8"
  }
 },
 "nbformat": 4,
 "nbformat_minor": 2
}
